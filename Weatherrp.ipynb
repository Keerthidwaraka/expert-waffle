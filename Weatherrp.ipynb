{
  "nbformat": 4,
  "nbformat_minor": 0,
  "metadata": {
    "colab": {
      "name": "Weatherrp.ipynb",
      "provenance": [],
      "collapsed_sections": [],
      "toc_visible": true,
      "authorship_tag": "ABX9TyOLjsmGwYQ9dmJSI6NE8UaC",
      "include_colab_link": true
    },
    "kernelspec": {
      "name": "python3",
      "display_name": "Python 3"
    },
    "language_info": {
      "name": "python"
    }
  },
  "cells": [
    {
      "cell_type": "markdown",
      "metadata": {
        "id": "view-in-github",
        "colab_type": "text"
      },
      "source": [
        "<a href=\"https://colab.research.google.com/github/Keerthidwaraka/expert-waffle/blob/master/Weatherrp.ipynb\" target=\"_parent\"><img src=\"https://colab.research.google.com/assets/colab-badge.svg\" alt=\"Open In Colab\"/></a>"
      ]
    },
    {
      "cell_type": "code",
      "source": [
        "# importing library\n",
        "import requests\n",
        "from bs4 import BeautifulSoup"
      ],
      "metadata": {
        "id": "SuiYztrq8rM9"
      },
      "execution_count": 19,
      "outputs": []
    },
    {
      "cell_type": "code",
      "source": [
        "# enter city name\n",
        "city = \"lucknow\""
      ],
      "metadata": {
        "id": "177ZumZP-LUt"
      },
      "execution_count": 20,
      "outputs": []
    },
    {
      "cell_type": "code",
      "source": [
        "# creating url and requests instance\n",
        "url = \"https://www.google.com/search?q=\"+\"weather\"+city\n",
        "html = requests.get(url).content"
      ],
      "metadata": {
        "id": "qVmb8m0p_xCN"
      },
      "execution_count": 21,
      "outputs": []
    },
    {
      "cell_type": "code",
      "source": [
        "# getting raw data\n",
        "soup = BeautifulSoup(html, 'html.parser')\n",
        "temp = soup.find('div', attrs={'class': 'BNeawe iBp4i AP7Wnd'}).text\n",
        "str = soup.find('div', attrs={'class': 'BNeawe tAd8D AP7Wnd'}).text"
      ],
      "metadata": {
        "id": "o4ghvPfI_xJJ"
      },
      "execution_count": 22,
      "outputs": []
    },
    {
      "cell_type": "code",
      "source": [
        "# formatting data\n",
        "data = str.split('\\n')\n",
        "weather = data[0]\n",
        "sky = data[1]"
      ],
      "metadata": {
        "id": "tXRLEmMK_394"
      },
      "execution_count": 23,
      "outputs": []
    },
    {
      "cell_type": "code",
      "source": [
        "# getting all div tag\n",
        "listdiv = soup.findAll('div', attrs={'class': 'BNeawe s3v9rd AP7Wnd'})\n",
        "strd = listdiv[5].text"
      ],
      "metadata": {
        "id": "TU76hSs__7ea"
      },
      "execution_count": 24,
      "outputs": []
    },
    {
      "cell_type": "code",
      "source": [
        "# getting other required data\n",
        "pos = strd.find('Wind')\n",
        "other_data = strd[pos:]"
      ],
      "metadata": {
        "id": "6lpjfQyO__JI"
      },
      "execution_count": 25,
      "outputs": []
    },
    {
      "cell_type": "code",
      "source": [
        "# printing all data\n",
        "print(\"Temperature is\", temp)\n",
        "print(\"Weather: \", weather)\n",
        "print(\"Sky Description: \", sky)\n",
        "print(other_data)"
      ],
      "metadata": {
        "colab": {
          "base_uri": "https://localhost:8080/"
        },
        "id": "r0MZKAF0ACUT",
        "outputId": "ba40135a-4c0b-4d4a-dd2f-ba148e16adeb"
      },
      "execution_count": 26,
      "outputs": [
        {
          "output_type": "stream",
          "name": "stdout",
          "text": [
            "Temperature is 86°F\n",
            "Weather:  Sunday 8:48 PM\n",
            "Sky Description:  Haze\n",
            "Wind : South-East 6 Km/h4 mph. Cloud cover : 0% Humidity ...\n"
          ]
        }
      ]
    }
  ]
}